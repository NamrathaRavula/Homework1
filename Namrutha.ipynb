{
  "nbformat": 4,
  "nbformat_minor": 0,
  "metadata": {
    "colab": {
      "provenance": []
    },
    "kernelspec": {
      "name": "python3",
      "display_name": "Python 3"
    },
    "language_info": {
      "name": "python"
    }
  },
  "cells": [
    {
      "cell_type": "markdown",
      "source": [
        "# **Machine Learning (Assignment # 1)**"
      ],
      "metadata": {
        "id": "Y11Rpx7jqRX-"
      }
    },
    {
      "cell_type": "markdown",
      "source": [
        "**Question 1**"
      ],
      "metadata": {
        "id": "ii5xA5etqg9r"
      }
    },
    {
      "cell_type": "code",
      "source": [
        "\n",
        "ages = [19,22, 19, 24, 20, 25, 26, 24, 25, 24]\n",
        "\n",
        "ages.sort()\n",
        "\n",
        "print(\"Minimum Age :\",ages[0],\"Max age =\",ages[-1])\n",
        "mid = len(ages)//2\n",
        "print(\"Median : \",(ages[mid]+ages[mid+1])//2)\n",
        "print(\"Average Ages : \",sum(ages)/len(ages))\n",
        "print(\"Range of ages \",max(ages)-min(ages))"
      ],
      "metadata": {
        "colab": {
          "base_uri": "https://localhost:8080/"
        },
        "id": "Y7lqgdSuqgW_",
        "outputId": "0142a796-07db-4762-f6bc-0afcfe7b09df"
      },
      "execution_count": null,
      "outputs": [
        {
          "output_type": "stream",
          "name": "stdout",
          "text": [
            "Minimum Age : 19 Max age = 26\n",
            "Median :  24\n",
            "Average Ages :  22.8\n",
            "Range of ages  7\n"
          ]
        }
      ]
    },
    {
      "cell_type": "markdown",
      "source": [
        "**Question 2**"
      ],
      "metadata": {
        "id": "Dqd_SAbrqrRx"
      }
    },
    {
      "cell_type": "code",
      "execution_count": 11,
      "metadata": {
        "colab": {
          "base_uri": "https://localhost:8080/"
        },
        "id": "PlZTy0BAqNO3",
        "outputId": "b490a5d4-924a-4ce4-f838-3c53394c1a7f"
      },
      "outputs": [
        {
          "output_type": "stream",
          "name": "stdout",
          "text": [
            "Length = 9\n",
            "['Python', 'ML', 'Java', 'AI'] <class 'list'>\n",
            "dict_keys(['first_name', 'last_name', 'gender', 'age', 'marital_status', 'skills', 'country', 'city', 'address'])\n",
            "dict_values(['Namratha', 'Ravula', 'female', 42, 'Unmarried', ['Python', 'ML', 'Java', 'AI', 'Pulihora', 'Cooking'], 'India', 'Hyderabad', 'peta'])\n"
          ]
        }
      ],
      "source": [
        "dog = {\"name\":\"Munna\", \"color\":\"Black\", \"breed\":\"Piple\", \"legs\":4, \"age\":1}\n",
        "student = { \"first_name\":\"Namratha\", \"last_name\":\"Ravula\", \"gender\":\"female\", \"age\":42, \"marital_status\":\"Unmarried\", \"skills\":[\"Python\",\"ML\",\"Java\",\"AI\"], \"country\":\"India\", \n",
        "           \"city\":\"Hyderabad\", \"address\":\"peta\"}\n",
        "\n",
        "print(\"Length =\",len(student))\n",
        "print(student[\"skills\"],type(student[\"skills\"]))\n",
        "student[\"skills\"].append(\"Pulihora\")\n",
        "student[\"skills\"].append(\"Cooking\")\n",
        "print(student.keys())\n",
        "print(student.values())\n"
      ]
    },
    {
      "cell_type": "markdown",
      "source": [
        "**Question 3**"
      ],
      "metadata": {
        "id": "xGXtBa9OvF8U"
      }
    },
    {
      "cell_type": "code",
      "source": [
        "brothers = (\"Kia\",\"Rao\",\"Teja\")\n",
        "sisters = (\"Kavith\",\"Namrutha\",\"Jina\",\"priya\")\n",
        "siblings = brothers+sisters\n",
        "print(siblings)"
      ],
      "metadata": {
        "colab": {
          "base_uri": "https://localhost:8080/"
        },
        "id": "5M9hhLmeq0ET",
        "outputId": "a120f0e6-9123-4ecb-8c06-74d683571b65"
      },
      "execution_count": null,
      "outputs": [
        {
          "output_type": "stream",
          "name": "stdout",
          "text": [
            "('Kia', 'Rao', 'Teja', 'Kavith', 'Namrutha', 'Jina', 'priya')\n"
          ]
        }
      ]
    },
    {
      "cell_type": "markdown",
      "source": [
        "**Question 4**"
      ],
      "metadata": {
        "id": "wkO6EfVmvW4F"
      }
    },
    {
      "cell_type": "code",
      "source": [
        "it_companies = {'Facebook', 'Google', 'Microsoft', 'Apple', 'IBM', 'Oracle', 'Amazon'}\n",
        "A = {19, 22, 24, 20, 25, 26}\n",
        "B = {19, 22, 20, 25, 26, 24, 28, 27}\n",
        "age = [22, 19, 24, 25, 26, 24, 25, 24]\n",
        "\n",
        "print(\"Length of It Companies =\",len(it_companies))\n",
        "\n",
        "it_companies.add(\"Twitter\")\n",
        "\n",
        "it_companies.update({\"TCS\",\"Accenture\"})\n",
        "\n",
        "it_companies.remove(\"Accenture\")\n",
        "\n",
        "print(A|B)\n",
        "print(A.intersection(B))\n",
        "print(A.issubset(B))\n",
        "print(A.symmetric_difference(B))\n",
        "\n",
        "del A,B\n",
        "\n",
        "age_set = set(age)\n",
        "\n",
        "print(\"Length of the set :\",len(age_set),\"Length of the list :\",len(age), \"length of set greater than length of list?\",len(age_set)<len(age) )"
      ],
      "metadata": {
        "colab": {
          "base_uri": "https://localhost:8080/"
        },
        "id": "tbTg_b66vanm",
        "outputId": "2abe1bcf-22dd-4df3-d8f7-df2d4a77151f"
      },
      "execution_count": null,
      "outputs": [
        {
          "output_type": "stream",
          "name": "stdout",
          "text": [
            "Length of It Companies = 7\n",
            "{19, 20, 22, 24, 25, 26, 27, 28}\n",
            "{19, 20, 22, 24, 25, 26}\n",
            "True\n",
            "{27, 28}\n",
            "Length of the set : 5 Length of the list : 8 length of set greater than length of list True\n"
          ]
        }
      ]
    },
    {
      "cell_type": "markdown",
      "source": [
        "**Question 5**"
      ],
      "metadata": {
        "id": "IQ-BpzyR7xcI"
      }
    },
    {
      "cell_type": "code",
      "source": [
        "radius = int(input(\"radius: \"))\n",
        "\n",
        "_area_of_circle_ = 3.14*radius*radius\n",
        "_circum_of_circle_ = 2*3.14*radius"
      ],
      "metadata": {
        "colab": {
          "base_uri": "https://localhost:8080/"
        },
        "id": "uSt5eavLDgdK",
        "outputId": "2b3ab249-c151-4dc7-aabc-f9dc359a488c"
      },
      "execution_count": null,
      "outputs": [
        {
          "name": "stdout",
          "output_type": "stream",
          "text": [
            "radius: 30\n"
          ]
        }
      ]
    },
    {
      "cell_type": "markdown",
      "source": [
        "**Question 6**"
      ],
      "metadata": {
        "id": "F49Yhrz3Ds92"
      }
    },
    {
      "cell_type": "code",
      "source": [
        "s =\"I am a teacher and I love to inspire and teach people\"\n",
        "l=set(s.split(\" \"))\n",
        "print(l)\n",
        "print(len(l))"
      ],
      "metadata": {
        "colab": {
          "base_uri": "https://localhost:8080/"
        },
        "id": "4vOWTpN-DzkF",
        "outputId": "e19fdfdf-b98f-4d60-e4dc-31cb4437d299"
      },
      "execution_count": null,
      "outputs": [
        {
          "output_type": "stream",
          "name": "stdout",
          "text": [
            "{'a', 'love', 'people', 'inspire', 'I', 'and', 'teach', 'teacher', 'to', 'am'}\n",
            "10\n"
          ]
        }
      ]
    },
    {
      "cell_type": "markdown",
      "source": [
        "**Question 7**"
      ],
      "metadata": {
        "id": "iLs8U6PqD4nT"
      }
    },
    {
      "cell_type": "code",
      "source": [
        "print(\"Name\\t\\tAge\\tCountry\\t\\tCity\")\n",
        "print(\"Asabeneh\\t250\\tFinland\\t\\tHelsinki\")"
      ],
      "metadata": {
        "colab": {
          "base_uri": "https://localhost:8080/"
        },
        "id": "B6H-YViXD_ou",
        "outputId": "317df2b3-78de-4207-d5ef-deed92eb3533"
      },
      "execution_count": null,
      "outputs": [
        {
          "output_type": "stream",
          "name": "stdout",
          "text": [
            "Name\t\tAge\tCountry\t\tCity\n",
            "Asabeneh\t250\tFinland\t\tHelsinki\n"
          ]
        }
      ]
    },
    {
      "cell_type": "markdown",
      "source": [
        "**Question 8**"
      ],
      "metadata": {
        "id": "M0SflIN5EgCO"
      }
    },
    {
      "cell_type": "code",
      "source": [
        "radius = 10\n",
        "print(\"Radius = {0}\".format(radius))\n",
        "\n",
        "print(\"area = {0} * radius ** 2\".format(3.14))\n",
        "\n",
        "print(\"The area of a circle with radius {0} is {1} meters square.\".format(10,int(3.14* 10 **2)))"
      ],
      "metadata": {
        "colab": {
          "base_uri": "https://localhost:8080/"
        },
        "id": "EaglqhfsEidn",
        "outputId": "1698cd1b-c085-49c0-b586-52677f9b8b92"
      },
      "execution_count": null,
      "outputs": [
        {
          "output_type": "stream",
          "name": "stdout",
          "text": [
            "Radius = 10\n",
            "area = 3.14 * radius ** 2\n",
            "The area of a circle with radius 10 is 314 meters square.\n"
          ]
        }
      ]
    },
    {
      "cell_type": "markdown",
      "source": [
        "**Question 9**"
      ],
      "metadata": {
        "id": "KyHlAWyaE5Rb"
      }
    },
    {
      "cell_type": "code",
      "source": [
        "N = int(input())\n",
        "l  = list(map(int, input().split()))\n",
        "k=list()\n",
        "for i in l:\n",
        "    k.append(round(i*0.4535924,2))\n",
        "print(k)"
      ],
      "metadata": {
        "colab": {
          "base_uri": "https://localhost:8080/"
        },
        "id": "gdD1S9dWE9Hu",
        "outputId": "ff4463c3-2c74-4fc6-bb67-d8af9711fe8a"
      },
      "execution_count": null,
      "outputs": [
        {
          "output_type": "stream",
          "name": "stdout",
          "text": [
            "4\n",
            "150 155 145 148\n",
            "[68.04, 70.31, 65.77, 67.13]\n"
          ]
        }
      ]
    }
  ]
}